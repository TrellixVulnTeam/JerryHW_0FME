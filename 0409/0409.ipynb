{
 "cells": [
  {
   "cell_type": "markdown",
   "metadata": {},
   "source": [
    "HW1"
   ]
  },
  {
   "cell_type": "code",
   "execution_count": 12,
   "metadata": {},
   "outputs": [
    {
     "name": "stdout",
     "output_type": "stream",
     "text": [
      "1----Mr.雪腐-----\n",
      " 用我們的熱情製作 \n",
      "\n",
      "\n",
      "2 我喜歡草莓口味\n",
      "----Mr.雪腐Menu----\n",
      "      草莓\n",
      "      巧克力\n",
      "      檸檬\n",
      "      香草\n"
     ]
    }
   ],
   "source": [
    "class Restaurant():\n",
    "    def describe_restaurant(self):\n",
    "        self.name = \"1----Mr.雪腐-----\"\n",
    "        self.cook = \" 用我們的熱情製作 \\n\"\n",
    "        print(self.name)\n",
    "        print(self.cook)\n",
    "class IceCreamStand(Restaurant):\n",
    "    def show_flavors(self):\n",
    "        flavors = [\"草莓\",\"巧克力\",\"檸檬\",\"香草\"]\n",
    "        print()\n",
    "        print(\"2 我喜歡草莓口味\")\n",
    "        print(\"----Mr.雪腐Menu----\")\n",
    "        for i in range(len(flavors)):\n",
    "            print(\"      \"+flavors[i])\n",
    "x = Restaurant()\n",
    "x.describe_restaurant()\n",
    "a = IceCreamStand()\n",
    "a.show_flavors()"
   ]
  },
  {
   "cell_type": "markdown",
   "metadata": {},
   "source": [
    "HW2"
   ]
  },
  {
   "cell_type": "code",
   "execution_count": 18,
   "metadata": {},
   "outputs": [
    {
     "ename": "IndentationError",
     "evalue": "expected an indented block (<ipython-input-18-b0a428723490>, line 3)",
     "output_type": "error",
     "traceback": [
      "\u001b[1;36m  File \u001b[1;32m\"<ipython-input-18-b0a428723490>\"\u001b[1;36m, line \u001b[1;32m3\u001b[0m\n\u001b[1;33m    print(\"go A go!\")\u001b[0m\n\u001b[1;37m        ^\u001b[0m\n\u001b[1;31mIndentationError\u001b[0m\u001b[1;31m:\u001b[0m expected an indented block\n"
     ]
    }
   ],
   "source": [
    "class A(object):\n",
    "    def go(self):\n",
    "    print(\"go A go!\")\n",
    "    def stop(self):\n",
    "    print(\"stop A stop!\")\n",
    "    def pause(self):\n",
    "    raise Exception(\"Not Implemented\")\n",
    "class B(A):\n",
    "    def go(self):\n",
    "    super(B, self).go()\n",
    "    print(\"go B go!\")\n",
    "class C(A):\n",
    "    def go(self):\n",
    "    super(C, self).go()\n",
    "    print(\"go C go!\")\n",
    "    def stop(self):\n",
    "    super(C, self).stop()\n",
    "    print(\"stop C stop!\")\n",
    "class D(B,C):\n",
    "    def go(self):\n",
    "    super(D, self).go()\n",
    "    print(\"go D go!\")\n",
    "    def stop(self):\n",
    "    super(D, self).stop()\n",
    "    print(\"stop D stop!\")\n",
    "    def pause(self):\n",
    "    print(\"wait D wait!\")\n",
    "class E(B,C):\n",
    "    pass"
   ]
  },
  {
   "cell_type": "code",
   "execution_count": 19,
   "metadata": {},
   "outputs": [
    {
     "name": "stdout",
     "output_type": "stream",
     "text": [
      "go A go!\n",
      "go A go!\n",
      "go B go!\n",
      "go A go!\n",
      "go C go!\n",
      "go A go!\n",
      "go C go!\n",
      "go B go!\n",
      "go D go!\n",
      "go A go!\n",
      "go C go!\n",
      "go B go!\n",
      "stop A stop!\n",
      "stop A stop!\n",
      "stop A stop!\n",
      "stop C stop!\n",
      "stop A stop!\n",
      "stop C stop!\n",
      "stop D stop!\n",
      "stop A stop!\n",
      "stop C stop!\n"
     ]
    },
    {
     "ename": "Exception",
     "evalue": "Not Implemented",
     "output_type": "error",
     "traceback": [
      "\u001b[1;31m---------------------------------------------------------------------------\u001b[0m",
      "\u001b[1;31mException\u001b[0m                                 Traceback (most recent call last)",
      "\u001b[1;32m<ipython-input-19-9c4d1b1f5b54>\u001b[0m in \u001b[0;36m<module>\u001b[1;34m()\u001b[0m\n\u001b[0;32m      9\u001b[0m \u001b[0md\u001b[0m\u001b[1;33m.\u001b[0m\u001b[0mstop\u001b[0m\u001b[1;33m(\u001b[0m\u001b[1;33m)\u001b[0m\u001b[1;33m\u001b[0m\u001b[0m\n\u001b[0;32m     10\u001b[0m \u001b[0me\u001b[0m\u001b[1;33m.\u001b[0m\u001b[0mstop\u001b[0m\u001b[1;33m(\u001b[0m\u001b[1;33m)\u001b[0m\u001b[1;33m\u001b[0m\u001b[0m\n\u001b[1;32m---> 11\u001b[1;33m \u001b[0ma\u001b[0m\u001b[1;33m.\u001b[0m\u001b[0mpause\u001b[0m\u001b[1;33m(\u001b[0m\u001b[1;33m)\u001b[0m\u001b[1;33m\u001b[0m\u001b[0m\n\u001b[0m\u001b[0;32m     12\u001b[0m \u001b[0mb\u001b[0m\u001b[1;33m.\u001b[0m\u001b[0mpause\u001b[0m\u001b[1;33m(\u001b[0m\u001b[1;33m)\u001b[0m\u001b[1;33m\u001b[0m\u001b[0m\n\u001b[0;32m     13\u001b[0m \u001b[0mc\u001b[0m\u001b[1;33m.\u001b[0m\u001b[0mpause\u001b[0m\u001b[1;33m(\u001b[0m\u001b[1;33m)\u001b[0m\u001b[1;33m\u001b[0m\u001b[0m\n",
      "\u001b[1;32m<ipython-input-13-5cf252c4168e>\u001b[0m in \u001b[0;36mpause\u001b[1;34m(self)\u001b[0m\n\u001b[0;32m      5\u001b[0m         \u001b[0mprint\u001b[0m \u001b[1;33m(\u001b[0m\u001b[1;34m\"stop A stop!\"\u001b[0m\u001b[1;33m)\u001b[0m\u001b[1;33m\u001b[0m\u001b[0m\n\u001b[0;32m      6\u001b[0m     \u001b[1;32mdef\u001b[0m \u001b[0mpause\u001b[0m\u001b[1;33m(\u001b[0m\u001b[0mself\u001b[0m\u001b[1;33m)\u001b[0m\u001b[1;33m:\u001b[0m\u001b[1;33m\u001b[0m\u001b[0m\n\u001b[1;32m----> 7\u001b[1;33m         \u001b[1;32mraise\u001b[0m \u001b[0mException\u001b[0m\u001b[1;33m(\u001b[0m\u001b[1;34m\"Not Implemented\"\u001b[0m\u001b[1;33m)\u001b[0m\u001b[1;33m\u001b[0m\u001b[0m\n\u001b[0m\u001b[0;32m      8\u001b[0m \u001b[1;32mclass\u001b[0m \u001b[0mB\u001b[0m\u001b[1;33m(\u001b[0m\u001b[0mA\u001b[0m\u001b[1;33m)\u001b[0m\u001b[1;33m:\u001b[0m\u001b[1;33m\u001b[0m\u001b[0m\n\u001b[0;32m      9\u001b[0m     \u001b[1;32mdef\u001b[0m \u001b[0mgo\u001b[0m\u001b[1;33m(\u001b[0m\u001b[0mself\u001b[0m\u001b[1;33m)\u001b[0m\u001b[1;33m:\u001b[0m\u001b[1;33m\u001b[0m\u001b[0m\n",
      "\u001b[1;31mException\u001b[0m: Not Implemented"
     ]
    }
   ],
   "source": [
    "a.go()\n",
    "b.go()\n",
    "c.go()\n",
    "d.go()\n",
    "e.go()\n",
    "a.stop()\n",
    "b.stop()\n",
    "c.stop()\n",
    "d.stop()\n",
    "e.stop()\n",
    "a.pause()\n",
    "b.pause()\n",
    "c.pause()\n",
    "d.pause()\n",
    "e.pause()"
   ]
  },
  {
   "cell_type": "code",
   "execution_count": null,
   "metadata": {},
   "outputs": [],
   "source": []
  }
 ],
 "metadata": {
  "kernelspec": {
   "display_name": "Python 3",
   "language": "python",
   "name": "python3"
  },
  "language_info": {
   "codemirror_mode": {
    "name": "ipython",
    "version": 3
   },
   "file_extension": ".py",
   "mimetype": "text/x-python",
   "name": "python",
   "nbconvert_exporter": "python",
   "pygments_lexer": "ipython3",
   "version": "3.6.5"
  }
 },
 "nbformat": 4,
 "nbformat_minor": 2
}
