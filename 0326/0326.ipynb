{
 "cells": [
  {
   "cell_type": "markdown",
   "metadata": {},
   "source": [
    "hw1"
   ]
  },
  {
   "cell_type": "code",
   "execution_count": 8,
   "metadata": {},
   "outputs": [
    {
     "name": "stdout",
     "output_type": "stream",
     "text": [
      "請輸入數字:12\n"
     ]
    },
    {
     "data": {
      "text/plain": [
       "112"
      ]
     },
     "execution_count": 8,
     "metadata": {},
     "output_type": "execute_result"
    }
   ],
   "source": [
    "a = int(input(\"請輸入數字:\"))\n",
    "func1 = lambda x:x+100\n",
    "func1(a)"
   ]
  },
  {
   "cell_type": "code",
   "execution_count": 90,
   "metadata": {},
   "outputs": [
    {
     "name": "stdout",
     "output_type": "stream",
     "text": [
      "請輸入數字:12 4 6\n"
     ]
    },
    {
     "data": {
      "text/plain": [
       "[112, 104, 106]"
      ]
     },
     "execution_count": 90,
     "metadata": {},
     "output_type": "execute_result"
    }
   ],
   "source": [
    "b = input(\"請輸入數字:\")\n",
    "d = b.split()\n",
    "for i in range(len(d)):\n",
    "    d[i] = int(d[i])\n",
    "list(map(lambda x:x+100,d))"
   ]
  },
  {
   "cell_type": "markdown",
   "metadata": {},
   "source": [
    "hw2"
   ]
  },
  {
   "cell_type": "code",
   "execution_count": 183,
   "metadata": {},
   "outputs": [],
   "source": [
    "def mul_test(func):\n",
    "    def mult(*args, **kwargs):\n",
    "        result = func(*args, **kwargs)\n",
    "        print(func.__name__,':',result)\n",
    "        a = list(map(int,args))\n",
    "        for i in a[1:]:\n",
    "            a[0]*=i\n",
    "        return ('mul_test',a[0])\n",
    "    return mult"
   ]
  },
  {
   "cell_type": "code",
   "execution_count": 186,
   "metadata": {},
   "outputs": [],
   "source": [
    "@mul_test\n",
    "def add_ints(*args, **kwargs):\n",
    "    a = list(map(int,args))\n",
    "    return sum(a)"
   ]
  },
  {
   "cell_type": "code",
   "execution_count": 187,
   "metadata": {
    "scrolled": false
   },
   "outputs": [
    {
     "name": "stdout",
     "output_type": "stream",
     "text": [
      "add_ints : 17\n"
     ]
    },
    {
     "data": {
      "text/plain": [
       "('mul_test', 100)"
      ]
     },
     "execution_count": 187,
     "metadata": {},
     "output_type": "execute_result"
    }
   ],
   "source": [
    "add_ints(2,10,5)"
   ]
  },
  {
   "cell_type": "markdown",
   "metadata": {},
   "source": [
    "hw3"
   ]
  },
  {
   "cell_type": "code",
   "execution_count": 1,
   "metadata": {},
   "outputs": [
    {
     "name": "stdout",
     "output_type": "stream",
     "text": [
      "請輸入數字:12.6\n",
      "出錯，請重新輸入\n",
      "請輸入數字:15\n",
      "15\n"
     ]
    }
   ],
   "source": [
    "while(True):\n",
    "    z = input(\"請輸入數字:\")\n",
    "    try:\n",
    "        x = int(z)\n",
    "        print(x)\n",
    "        break\n",
    "    except:\n",
    "        print(\"出錯，請重新輸入\")"
   ]
  }
 ],
 "metadata": {
  "kernelspec": {
   "display_name": "Python 3",
   "language": "python",
   "name": "python3"
  },
  "language_info": {
   "codemirror_mode": {
    "name": "ipython",
    "version": 3
   },
   "file_extension": ".py",
   "mimetype": "text/x-python",
   "name": "python",
   "nbconvert_exporter": "python",
   "pygments_lexer": "ipython3",
   "version": "3.6.4"
  }
 },
 "nbformat": 4,
 "nbformat_minor": 2
}
